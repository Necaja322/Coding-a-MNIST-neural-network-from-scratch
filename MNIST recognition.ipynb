{
 "cells": [
  {
   "cell_type": "markdown",
   "metadata": {},
   "source": [
    "Importing needed"
   ]
  },
  {
   "cell_type": "code",
   "execution_count": 1,
   "metadata": {},
   "outputs": [],
   "source": [
    "import numpy as np\n",
    "import math\n",
    "import matplotlib.pyplot as plt"
   ]
  },
  {
   "cell_type": "markdown",
   "metadata": {},
   "source": [
    "Hyper parameters"
   ]
  },
  {
   "cell_type": "code",
   "execution_count": 2,
   "metadata": {},
   "outputs": [],
   "source": [
    "epochs=20#The numebr of times we run through the data\n",
    "batch_size=64 #We learn 'batch by batch' so this is how many samples are in one batch \n",
    "learning_rate=0.1# step size in gradient descent used in moving toward minima of loss function"
   ]
  },
  {
   "cell_type": "markdown",
   "metadata": {},
   "source": [
    "Preprocessing data, using tensorflow ONLY to import MNIST "
   ]
  },
  {
   "cell_type": "code",
   "execution_count": 3,
   "metadata": {},
   "outputs": [
    {
     "name": "stdout",
     "output_type": "stream",
     "text": [
      "x_train shape: (60000, 784)\n",
      "y_train shape: (60000, 10)\n",
      "x_test shape: (10000, 784)\n",
      "y_test shape: (10000, 10)\n"
     ]
    }
   ],
   "source": [
    "import tensorflow as tf #Tesnor flow is ONlY used to import MNIST in a nice form\n",
    "from tensorflow.keras.datasets import mnist \n",
    "\n",
    "(x_train, y_train), (x_test, y_test) = mnist.load_data()\n",
    "# Flatten and normalize the training and testing data\n",
    "x_train = x_train.reshape(-1, 784).astype('float32') / 255.0\n",
    "x_test = x_test.reshape(-1, 784).astype('float32') / 255.0\n",
    "# One-hot encoding\n",
    "y_train = tf.keras.utils.to_categorical(y_train, num_classes=10)\n",
    "y_test = tf.keras.utils.to_categorical(y_test, num_classes=10)\n",
    "# Display the shapes of x_train, y_train, x_test, and y_test\n",
    "print(\"x_train shape:\", x_train.shape)\n",
    "print(\"y_train shape:\", y_train.shape)\n",
    "print(\"x_test shape:\", x_test.shape)\n",
    "print(\"y_test shape:\", y_test.shape)\n",
    "#Collumns should be inivdidual images\n",
    "#We put y_true in form where collumns are predicitons and rows samples   \n",
    "#Simillarly for y_true hot enocoded"
   ]
  },
  {
   "cell_type": "markdown",
   "metadata": {},
   "source": [
    "Visualising the dataset"
   ]
  },
  {
   "cell_type": "code",
   "execution_count": 4,
   "metadata": {},
   "outputs": [
    {
     "data": {
      "image/png": "[encoded data removed]",
      "text/plain": [
       "<Figure size 500x200 with 10 Axes>"
      ]
     },
     "metadata": {},
     "output_type": "display_data"
    }
   ],
   "source": [
    "num_samples = 10  # Number of images to display\n",
    "sample_indices = np.random.choice(x_train.shape[0], num_samples, replace=False)\n",
    "sample_images = x_train[sample_indices]\n",
    "sample_labels = y_train[sample_indices]\n",
    "\n",
    "# Plot images in a grid\n",
    "plt.figure(figsize=(5, 2))\n",
    "for i in range(num_samples):\n",
    "    plt.subplot(2, 5, i + 1)  # 2x5 grid\n",
    "    plt.imshow(sample_images[i].reshape(28, 28), cmap='gray')\n",
    "    plt.title(f'Label: {np.argmax(sample_labels[i])}')\n",
    "    plt.axis('off')\n",
    "plt.tight_layout()\n",
    "plt.show()"
   ]
  },
  {
   "cell_type": "markdown",
   "metadata": {},
   "source": [
    "Definning actiavation functions and derivatives, and loss:"
   ]
  },
  {
   "cell_type": "code",
   "execution_count": 5,
   "metadata": {},
   "outputs": [],
   "source": [
    "#Different 'Activation functions' if we choose these function to be linear and our loss to be Mean squared error, we would get a Linear model the famous technically special case of the NN\n",
    "def sigmoid(x):\n",
    "     return (1/(1+np.exp(-x)))\n",
    "def softmax(x):\n",
    "     y = np.zeros_like(x, dtype=float)\n",
    "     num_rows, num_columns = x.shape\n",
    "     z=np.zeros(num_rows)\n",
    "     for j in range(num_rows):\n",
    "             z[j]=np.sum(np.exp(x[j,:]))\n",
    "             y[j,:]=np.exp(x[j,:])/z[j]\n",
    "     return y\n",
    "\n",
    "#Categorical cross-entropy loss\n",
    "def Loss(y_pred, y_true):\n",
    "        y_pred_clipped = np.clip(y_pred, 1e-7, 1 - 1e-7)\n",
    "        matrix=np.multiply(np.log(y_pred_clipped),y_true)\n",
    "        samples, a =np.shape(y_true)\n",
    "        loss=(1/samples)*np.sum(matrix)\n",
    "        return loss\n",
    "\n",
    "\n",
    "def sigmoidp(x): #derivative of sigmoid, used when calcualting gradients by chain rule\n",
    "     return sigmoid(x)*(1 - sigmoid(x))\n"
   ]
  },
  {
   "cell_type": "markdown",
   "metadata": {},
   "source": [
    "Making a Linear layer"
   ]
  },
  {
   "cell_type": "code",
   "execution_count": 6,
   "metadata": {},
   "outputs": [],
   "source": [
    "#Bellow is making a class for a linear layer and the foreward and backpropagation\n",
    "class Layer_Dense:\n",
    "     def __init__(self, n_inputs, n_neruons):\n",
    "          self.weights = 0.1*(np.random.randn(n_neruons, n_inputs))\n",
    "          self.biases= 0.01 * np.random.randn(1, n_neruons)\n",
    "          self.inputs=None\n",
    "          self.output=None\n",
    "     def forward(self, inputs,activation_function=sigmoid):\n",
    "          m,n=np.shape(inputs) #n=numbebr of inputs(sample size)\n",
    "          self.inputs=inputs\n",
    "          self.output = activation_function((self.weights @ inputs.T).T +  np.tile(self.biases, (m, 1)))\n",
    "\n",
    "     def backpropagation(self, dz, activation_derivative, learning_rate):\n",
    "        # Calculate the derivative of the activation function\n",
    "          dz = dz * activation_derivative(self.output)\n",
    "\n",
    "            # Gradients for biases and weights\n",
    "          db = np.sum(dz, axis=0) / dz.shape[0]\n",
    "          dw = np.dot(dz.T, self.inputs) / dz.shape[0]\n",
    "\n",
    "            # Calculate dz for the previous layer (backpropagation)\n",
    "          dz_prev = np.dot(dz, self.weights)\n",
    "\n",
    "            # Update weights and biases\n",
    "          self.weights -= learning_rate * dw\n",
    "          self.biases -= learning_rate * db\n",
    "\n",
    "          return dz_prev"
   ]
  },
  {
   "cell_type": "markdown",
   "metadata": {},
   "source": [
    "Neural Network"
   ]
  },
  {
   "cell_type": "code",
   "execution_count": 7,
   "metadata": {},
   "outputs": [],
   "source": [
    "class NeuralNetwork:\n",
    "    def __init__(self, input_size,  output_size):\n",
    "                #Here we can add more layers\n",
    "        self.layer1 = Layer_Dense(input_size, 256)\n",
    "        self.layer2 = Layer_Dense(256, 512)\n",
    "        self.layer3 = Layer_Dense(512, output_size)\n",
    "   \n",
    "    def forward(self, inputs):\n",
    "        self.layer1.forward(inputs, activation_function=sigmoid)  \n",
    "        self.layer2.forward(self.layer1.output, activation_function=sigmoid)\n",
    "        #add sigmoid layers easily\n",
    "        self.layer3.forward(self.layer2.output, activation_function=softmax)\n",
    "        \n",
    "        \n",
    "    def backpropagation(self, x_batch, y_batch, learning_rate): #How our model learns\n",
    "        \n",
    "        self.forward(x_batch)\n",
    "\n",
    "        dz = self.layer3.output - y_batch  #Here used gradient of loss function\n",
    "\n",
    "        dz=self.layer3.backpropagation(dz, activation_derivative=lambda x: 1, learning_rate=learning_rate) #lambda x for last layer\n",
    "        dz=self.layer2.backpropagation(dz, activation_derivative=sigmoidp, learning_rate=learning_rate)\n",
    "        dz=self.layer1.backpropagation(dz, activation_derivative=sigmoidp, learning_rate=learning_rate)   #Sigmoid for additional layers\n",
    "\n",
    "    def accuracy(self, y_true, y_pred):\n",
    "        predictions = np.argmax(y_pred, axis=1)\n",
    "        targets = np.argmax(y_true, axis=1)\n",
    "        accuracy = np.mean(predictions  == targets) #finds accuracy\n",
    "        return accuracy "
   ]
  },
  {
   "cell_type": "markdown",
   "metadata": {},
   "source": [
    "Initializing Neural Networks"
   ]
  },
  {
   "cell_type": "code",
   "execution_count": 8,
   "metadata": {},
   "outputs": [],
   "source": [
    "nn = NeuralNetwork(input_size=x_train.shape[1],output_size=10)"
   ]
  },
  {
   "cell_type": "markdown",
   "metadata": {},
   "source": [
    "Defining training and test loops"
   ]
  },
  {
   "cell_type": "code",
   "execution_count": 9,
   "metadata": {},
   "outputs": [],
   "source": [
    "def train():\n",
    "    for epoch in range(epochs):\n",
    "        #Shuffles indices so each epochs is different:\n",
    "        indices = np.arange(x_train.shape[0])\n",
    "        np.random.shuffle(indices)\n",
    "\n",
    "        num_samples = x_train.shape[0]\n",
    "        num_batches = num_samples // batch_size\n",
    "        \n",
    "        for batch in range(num_batches):\n",
    "            \n",
    "            start_index = batch * batch_size\n",
    "            end_index = start_index + batch_size\n",
    "\n",
    "            batch_indices = indices[start_index:end_index]\n",
    "\n",
    "            x_batch = x_train[batch_indices]\n",
    "            y_batch = y_train[batch_indices]\n",
    "            nn.backpropagation(x_batch, y_batch, learning_rate) #bac propagation\n",
    "        \n",
    "        # Print accuracy every 5 epochs\n",
    "        if epoch % 5 == 0:\n",
    "            nn.forward(x_test)\n",
    "            y_pred = nn.layer3.output #Make sure here is the last layer\n",
    "            print(f\"Epoch {epoch}, Accuracy: {nn.accuracy(y_test, y_pred)}\")\n",
    "def test():\n",
    "    nn.forward(x_test)\n",
    "    y_pred = nn.layer3.output #Make sure here is the last layer\n",
    "    print(\"Final test accuracy:\", nn.accuracy(y_test, y_pred))"
   ]
  },
  {
   "cell_type": "markdown",
   "metadata": {},
   "source": [
    "Running test and train"
   ]
  },
  {
   "cell_type": "code",
   "execution_count": 10,
   "metadata": {},
   "outputs": [
    {
     "name": "stdout",
     "output_type": "stream",
     "text": [
      "Epoch 0, Accuracy: 0.8882\n",
      "Epoch 10, Accuracy: 0.9253\n",
      "Epoch 20, Accuracy: 0.9321\n"
     ]
    }
   ],
   "source": [
    "train()\n",
    "test()"
   ]
  }
 ],
 "metadata": {
  "kernelspec": {
   "display_name": "Python 3",
   "language": "python",
   "name": "python3"
  },
  "language_info": {
   "codemirror_mode": {
    "name": "ipython",
    "version": 3
   },
   "file_extension": ".py",
   "mimetype": "text/x-python",
   "name": "python",
   "nbconvert_exporter": "python",
   "pygments_lexer": "ipython3",
   "version": "3.11.5"
  }
 },
 "nbformat": 4,
 "nbformat_minor": 2
}
